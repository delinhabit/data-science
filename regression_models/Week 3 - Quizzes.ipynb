{
 "cells": [
  {
   "cell_type": "code",
   "execution_count": 1,
   "metadata": {
    "collapsed": true
   },
   "outputs": [],
   "source": [
    "import numpy as np\n",
    "import pandas as pd\n",
    "import matplotlib.pyplot as plt\n",
    "%matplotlib inline\n",
    "\n",
    "from ggplot import mtcars"
   ]
  },
  {
   "cell_type": "markdown",
   "metadata": {},
   "source": [
    "Linear Model Implementation\n",
    "-------------------------\n",
    "\n",
    "In order to aid the analyses below, le'ts first create a simple `LinearModel` that we can use to fit single variables."
   ]
  },
  {
   "cell_type": "code",
   "execution_count": 2,
   "metadata": {
    "collapsed": false
   },
   "outputs": [],
   "source": [
    "from collections import namedtuple\n",
    "\n",
    "\n",
    "class LinearRegressor(object):\n",
    "    \n",
    "    def __init__(self, y):\n",
    "        self.y = np.array(y)\n",
    "        self.N = len(y)\n",
    "        self.mu_y = np.mean(self.y)\n",
    "        \n",
    "    def fit(self, x):\n",
    "        x = np.array(x)\n",
    "        mu_x = np.mean(x)\n",
    "        beta1 = np.dot(x - mu_x, self.y - self.mu_y) / sum((x - mu_x) ** 2)\n",
    "        beta0 = self.mu_y - beta1 * mu_x\n",
    "        \n",
    "        yhat = (lambda x: beta0 + beta1 * x)(x)\n",
    "        resid = y - yhat\n",
    "        \n",
    "        return {\n",
    "            'intercept': beta0,\n",
    "            'slope': beta1,\n",
    "            'yhat': yhat,\n",
    "            'residuals': resid,\n",
    "        }"
   ]
  },
  {
   "cell_type": "markdown",
   "metadata": {},
   "source": [
    "Q1\n",
    "--\n",
    "\n",
    "Consider the `𝚖𝚝𝚌𝚊𝚛𝚜` data set. Fit a model with `mpg` as the outcome that includes number of cylinders as a factor variable and weight as confounder. Give the adjusted estimate for the expected change in mpg comparing 8 cylinders to 4.\n",
    "\n",
    "* -6.071\n",
    "* -3.206\n",
    "* 33.991\n",
    "* -4.256"
   ]
  },
  {
   "cell_type": "markdown",
   "metadata": {},
   "source": [
    "Q2\n",
    "--\n",
    "\n",
    "Consider the `𝚖𝚝𝚌𝚊𝚛𝚜` data set. Fit a model with `mpg` as the outcome that includes number of cylinders as a factor variable and weight as a possible confounding variable. Compare the effect of 8 versus 4 cylinders on mpg for the adjusted and unadjusted by weight models. Here, adjusted means including the weight variable as a term in the regression model and unadjusted means the model without weight included. What can be said about the effect comparing 8 and 4 cylinders after looking at models with and without weight included?.\n",
    "\n",
    "* Holding weight constant, cylinder appears to have less of an impact on mpg than if weight is disregarded.\n",
    "* Within a given weight, 8 cylinder vehicles have an expected 12 mpg drop in fuel efficiency.\n",
    "* Including or excluding weight does not appear to change anything regarding the estimated impact of number of cylinders on mpg.\n",
    "* Holding weight constant, cylinder appears to have more of an impact on mpg than if weight is disregarded."
   ]
  },
  {
   "cell_type": "markdown",
   "metadata": {},
   "source": [
    "Q3\n",
    "--\n",
    "\n",
    "Consider the `𝚖𝚝𝚌𝚊𝚛𝚜` data set. Fit a model with `mpg` as the outcome that considers number of cylinders as a factor variable and weight as confounder. Now fit a second model with mpg as the outcome model that considers the interaction between number of cylinders (as a factor variable) and weight. Give the P-value for the likelihood ratio test comparing the two models and suggest a model using 0.05 as a type I error rate significance benchmark.\n",
    "\n",
    "* The P-value is larger than 0.05. So, according to our criterion, we would fail to reject, which suggests that the interaction terms may not be necessary.\n",
    "* The P-value is small (less than 0.05). Thus it is surely true that there is no interaction term in the true model.\n",
    "* The P-value is small (less than 0.05). So, according to our criterion, we reject, which suggests that the interaction term is necessary\n",
    "* The P-value is larger than 0.05. So, according to our criterion, we would fail to reject, which suggests that the interaction terms is necessary.\n",
    "* The P-value is small (less than 0.05). Thus it is surely true that there is an interaction term in the true model.\n",
    "* The P-value is small (less than 0.05). So, according to our criterion, we reject, which suggests that the interaction term is not necessary."
   ]
  },
  {
   "cell_type": "markdown",
   "metadata": {},
   "source": [
    "Q4\n",
    "--\n",
    "\n",
    "Consider the `𝚖𝚝𝚌𝚊𝚛𝚜` data set. Fit a model with `mpg` as the outcome that includes number of cylinders as a factor variable and weight inlcuded in the model as\n",
    "\n",
    "```python\n",
    "lm(mpg ~ I(wt * 0.5) + factor(cyl), data = mtcars)\n",
    "```\n",
    "\n",
    "How is the wt coefficient interpretted?\n",
    "\n",
    "* The estimated expected change in MPG per half ton increase in weight.\n",
    "* The estimated expected change in MPG per one ton increase in weight for a specific number of cylinders (4, 6, 8).\n",
    "* The estimated expected change in MPG per half ton increase in weight for for a specific number of cylinders (4, 6, 8).\n",
    "* The estimated expected change in MPG per half ton increase in weight for the average number of cylinders.\n",
    "* The estimated expected change in MPG per one ton increase in weight."
   ]
  },
  {
   "cell_type": "markdown",
   "metadata": {},
   "source": [
    "Q5\n",
    "--\n",
    "\n",
    "Consider the following data set\n",
    "\n",
    "```python\n",
    "x <- c(0.586, 0.166, -0.042, -0.614, 11.72)\n",
    "y <- c(0.549, -0.026, -0.127, -0.751, 1.344)\n",
    "```\n",
    "\n",
    "Give the hat diagonal for the most influential point\n",
    "\n",
    "* 0.2025\n",
    "* 0.2287\n",
    "* 0.9946\n",
    "* 0.2804"
   ]
  },
  {
   "cell_type": "markdown",
   "metadata": {},
   "source": [
    "Q6\n",
    "--\n",
    "\n",
    "Consider the following data set\n",
    "\n",
    "```python\n",
    "x <- c(0.586, 0.166, -0.042, -0.614, 11.72)\n",
    "y <- c(0.549, -0.026, -0.127, -0.751, 1.344)\n",
    "```\n",
    "\n",
    "Give the slope dfbeta for the point with the highest hat value.\n",
    "\n",
    "* -.00134\n",
    "* 0.673\n",
    "* -0.378\n",
    "* -134"
   ]
  },
  {
   "cell_type": "markdown",
   "metadata": {},
   "source": [
    "Q7\n",
    "--\n",
    "\n",
    "Consider a regression relationship between Y and X with and without adjustment for a third variable Z. Which of the following is true about comparing the regression coefficient between Y and X with and without adjustment for Z.\n",
    "\n",
    "* Adjusting for another variable can only attenuate the coefficient toward zero. It can't materially change sign.\n",
    "* The coefficient can't change sign after adjustment, except for slight numerical pathological cases.\n",
    "* For the the coefficient to change sign, there must be a significant interaction term.\n",
    "* **It is possible for the coefficient to reverse sign after adjustment. For example, it can be strongly significant and positive before adjustment and strongly significant and negative after adjustment.**"
   ]
  },
  {
   "cell_type": "code",
   "execution_count": null,
   "metadata": {
    "collapsed": true
   },
   "outputs": [],
   "source": []
  }
 ],
 "metadata": {
  "kernelspec": {
   "display_name": "Python 3",
   "language": "python",
   "name": "python3"
  },
  "language_info": {
   "codemirror_mode": {
    "name": "ipython",
    "version": 3
   },
   "file_extension": ".py",
   "mimetype": "text/x-python",
   "name": "python",
   "nbconvert_exporter": "python",
   "pygments_lexer": "ipython3",
   "version": "3.5.1"
  }
 },
 "nbformat": 4,
 "nbformat_minor": 0
}
