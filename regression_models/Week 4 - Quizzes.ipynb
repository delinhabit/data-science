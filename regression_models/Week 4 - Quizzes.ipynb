{
 "cells": [
  {
   "cell_type": "markdown",
   "metadata": {},
   "source": [
    "Q1\n",
    "--\n",
    "\n",
    "Consider the space shuttle data `?𝚜𝚑𝚞𝚝𝚝𝚕𝚎` in the `𝙼𝙰𝚂𝚂` library. Consider modeling the use of the autolander as the outcome (variable name `𝚞𝚜𝚎`). Fit a logistic regression model with autolander (variable auto) use (labeled as \"auto\" 1) versus not (0) as predicted by wind sign (variable wind). Give the estimated odds ratio for autolander use comparing head winds, labeled as \"head\" in the variable headwind (numerator) to tail winds (denominator).\n",
    "\n",
    "* 0.969\n",
    "* 0.031\n",
    "* 1.327\n",
    "* -0.031"
   ]
  },
  {
   "cell_type": "markdown",
   "metadata": {},
   "source": [
    "Q2\n",
    "--\n",
    "\n",
    "Consider the previous problem. Give the estimated odds ratio for autolander use comparing head winds (numerator) to tail winds (denominator) adjusting for wind strength from the variable magn.\n",
    "\n",
    "* 0.684\n",
    "* 0.969\n",
    "* 1.485\n",
    "* 1.00"
   ]
  },
  {
   "cell_type": "markdown",
   "metadata": {},
   "source": [
    "Q3\n",
    "--\n",
    "\n",
    "If you fit a logistic regression model to a binary variable, for example use of the autolander, then fit a logistic regression model for one minus the outcome (not using the autolander) what happens to the coefficients?\n",
    "\n",
    "* The intercept changes sign, but the other coefficients don't.\n",
    "* The coefficients get inverted (one over their previous value).\n",
    "* The coefficients reverse their signs.\n",
    "* The coefficients change in a non-linear fashion."
   ]
  },
  {
   "cell_type": "markdown",
   "metadata": {},
   "source": [
    "Q4\n",
    "--\n",
    "\n",
    "Consider the insect spray data `𝙸𝚗𝚜𝚎𝚌𝚝𝚂𝚙𝚛𝚊𝚢𝚜`. Fit a Poisson model using spray as a factor level. Report the estimated relative rate comparing spray A (numerator) to spray B (denominator).\n",
    "\n",
    "* 0.321\n",
    "* 0.9457\n",
    "* 0.136\n",
    "* -0.056"
   ]
  },
  {
   "cell_type": "markdown",
   "metadata": {},
   "source": [
    "Q5\n",
    "--\n",
    "\n",
    "Consider a Poisson glm with an offset, t. So, for example, a model of the form `𝚐𝚕𝚖(𝚌𝚘𝚞𝚗𝚝 ~ 𝚡 + 𝚘𝚏𝚏𝚜𝚎𝚝(𝚝), 𝚏𝚊𝚖𝚒𝚕𝚢 = 𝚙𝚘𝚒𝚜𝚜𝚘𝚗)` where 𝚡 is a factor variable comparing a treatment (1) to a control (0) and 𝚝 is the natural log of a monitoring time. What is impact of the coefficient for 𝚡 if we fit the model `𝚐𝚕𝚖(𝚌𝚘𝚞𝚗𝚝 ~ 𝚡 + 𝚘𝚏𝚏𝚜𝚎𝚝(𝚝𝟸), 𝚏𝚊𝚖𝚒𝚕𝚢 = 𝚙𝚘𝚒𝚜𝚜𝚘𝚗)` where `𝟸 <- 𝚕𝚘𝚐(𝟷𝟶) + 𝚝`? In other words, what happens to the coefficients if we change the units of the offset variable. (Note, adding log(10) on the log scale is multiplying by 10 on the original scale.)\n",
    "\n",
    "* The coefficient estimate is multiplied by 10\n",
    "* The coefficient is subtracted by log(10)\n",
    "* The coefficient estimate is divided by 10\n",
    "* The coefficient estimate is unchanged"
   ]
  },
  {
   "cell_type": "markdown",
   "metadata": {},
   "source": [
    "Q6\n",
    "--\n",
    "\n",
    "Consider the data\n",
    "\n",
    "```\n",
    "x <- -5:5\n",
    "y <- c(5.12, 3.93, 2.67, 1.87, 0.52, 0.08, 0.93, 2.05, 2.54, 3.87, 4.97)\n",
    "```\n",
    "\n",
    "Using a knot point at 0, fit a linear model that looks like a hockey stick with two lines meeting at x=0. Include an intercept term, x and the knot point term. What is the estimated slope of the line after 0?\n",
    "\n",
    "* -1.024\n",
    "* 2.037\n",
    "* 1.013\n",
    "* -0.183"
   ]
  }
 ],
 "metadata": {
  "kernelspec": {
   "display_name": "Python 3",
   "language": "python",
   "name": "python3"
  },
  "language_info": {
   "codemirror_mode": {
    "name": "ipython",
    "version": 3
   },
   "file_extension": ".py",
   "mimetype": "text/x-python",
   "name": "python",
   "nbconvert_exporter": "python",
   "pygments_lexer": "ipython3",
   "version": "3.5.1"
  }
 },
 "nbformat": 4,
 "nbformat_minor": 0
}
