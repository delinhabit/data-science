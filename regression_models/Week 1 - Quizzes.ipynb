{
 "cells": [
  {
   "cell_type": "code",
   "execution_count": 1,
   "metadata": {
    "collapsed": true
   },
   "outputs": [],
   "source": [
    "import numpy as np\n",
    "import pandas as pd\n",
    "import matplotlib.pyplot as plt\n",
    "%matplotlib inline"
   ]
  },
  {
   "cell_type": "markdown",
   "metadata": {},
   "source": [
    "Q1\n",
    "--\n",
    "\n",
    "Consider the data set given below\n",
    "\n",
    "```\n",
    "x = [0.18, -1.54, 0.42, 0.95]\n",
    "```\n",
    "\n",
    "And weights given by\n",
    "\n",
    "```\n",
    "w = [2, 1, 3, 1]\n",
    "```\n",
    "\n",
    "Give the value of μ that minimizes the least squares equation `sum(wi * (xi - μ) ** 2)`"
   ]
  },
  {
   "cell_type": "code",
   "execution_count": 2,
   "metadata": {
    "collapsed": false
   },
   "outputs": [
    {
     "data": {
      "text/plain": [
       "0.1471428571428571"
      ]
     },
     "execution_count": 2,
     "metadata": {},
     "output_type": "execute_result"
    }
   ],
   "source": [
    "x = [0.18, -1.54, 0.42, 0.95]\n",
    "w = [2, 1, 3, 1]\n",
    "\n",
    "mu = np.dot(x, w) / sum(w)\n",
    "mu"
   ]
  },
  {
   "cell_type": "markdown",
   "metadata": {},
   "source": [
    "Q2\n",
    "--\n",
    "\n",
    "Consider the following data set\n",
    "\n",
    "```\n",
    "x = [0.8, 0.47, 0.51, 0.73, 0.36, 0.58, 0.57, 0.85, 0.44, 0.42]\n",
    "y = [1.39, 0.72, 1.55, 0.48, 1.19, -1.59, 1.23, -0.65, 1.49, 0.05]\n",
    "```\n",
    "\n",
    "Fit the regression *through the origin* and get the slope treating `y` as the outcome and `x` as the regressor. (Hint, do not center the data since we want regression through the origin, not through the means of the data.) "
   ]
  },
  {
   "cell_type": "code",
   "execution_count": 3,
   "metadata": {
    "collapsed": false
   },
   "outputs": [
    {
     "name": "stdout",
     "output_type": "stream",
     "text": [
      "slope = 0.8262516608712861\n"
     ]
    },
    {
     "data": {
      "text/plain": [
       "[<matplotlib.lines.Line2D at 0x109c727b8>,\n",
       " <matplotlib.lines.Line2D at 0x109c72978>]"
      ]
     },
     "execution_count": 3,
     "metadata": {},
     "output_type": "execute_result"
    },
    {
     "data": {
      "image/png": "[encoded data removed]",
      "text/plain": [
       "<matplotlib.figure.Figure at 0x1071248d0>"
      ]
     },
     "metadata": {},
     "output_type": "display_data"
    }
   ],
   "source": [
    "x = np.array([0.8, 0.47, 0.51, 0.73, 0.36, 0.58, 0.57, 0.85, 0.44, 0.42])\n",
    "y = np.array([1.39, 0.72, 1.55, 0.48, 1.19, -1.59, 1.23, -0.65, 1.49, 0.05])\n",
    "\n",
    "beta = np.dot(x, y) / sum(x ** 2)\n",
    "print(\"slope = {}\".format(beta))\n",
    "\n",
    "plt.plot(x, y, 'bo', x, (lambda x: beta * x)(x), '--r')"
   ]
  },
  {
   "cell_type": "markdown",
   "metadata": {},
   "source": [
    "Q3\n",
    "--\n",
    "\n",
    "Load the `mtcars` dataset and fit the regression model with mpg as the outcome and weight as the predictor. Give the slope coefficient."
   ]
  },
  {
   "cell_type": "code",
   "execution_count": 4,
   "metadata": {
    "collapsed": false
   },
   "outputs": [
    {
     "name": "stdout",
     "output_type": "stream",
     "text": [
      "slope = -5.344471572722677, intercept = 37.28512616734203\n"
     ]
    },
    {
     "data": {
      "text/plain": [
       "[<matplotlib.lines.Line2D at 0x10bd23ac8>,\n",
       " <matplotlib.lines.Line2D at 0x10e7ce630>]"
      ]
     },
     "execution_count": 4,
     "metadata": {},
     "output_type": "execute_result"
    },
    {
     "data": {
      "image/png": "[encoded data removed]",
      "text/plain": [
       "<matplotlib.figure.Figure at 0x109c326d8>"
      ]
     },
     "metadata": {},
     "output_type": "display_data"
    }
   ],
   "source": [
    "from ggplot import mtcars\n",
    "\n",
    "x = mtcars.wt\n",
    "y = mtcars.mpg\n",
    "mu_x = np.mean(x)\n",
    "mu_y = np.mean(y)\n",
    "\n",
    "beta = np.dot(x - mu_x, y - mu_y) / sum((x - mu_x) ** 2)\n",
    "alpha = mu_y - beta * mu_x\n",
    "\n",
    "print(\"slope = {}, intercept = {}\".format(beta, alpha))\n",
    "\n",
    "plt.plot(x, y, 'bo', x, (lambda x: beta * x + alpha)(x), '--r')"
   ]
  },
  {
   "cell_type": "markdown",
   "metadata": {},
   "source": [
    "Q4\n",
    "--\n",
    "\n",
    "Consider data with an outcome (`Y`) and a predictor (`X`). The standard deviation of the predictor is one half that of the outcome. The correlation between the two variables is `.5`. What value would the slope coefficient for the regression model with `Y` as the outcome and `X` as the predictor?\n",
    "\n",
    "```\n",
    "beta = corr(X, Y) * SY / SX = 0.5 * 2 * SX / SX = 1\n",
    "```"
   ]
  },
  {
   "cell_type": "markdown",
   "metadata": {},
   "source": [
    "Q5\n",
    "--\n",
    "\n",
    "Students were given two hard tests and scores were normalized to have empirical mean `0` and variance `1`. The correlation between the scores on the two tests was `0.4`. What would be the expected score on `Quiz 2` for a student who had a normalized score of `1.5` on `Quiz 1`?\n",
    "\n",
    "```\n",
    "beta = corr(X, Y) * SY / SX = corr(X, Y) * 1 * 1 = 0.4\n",
    "alpha = mu_y - beta * mu_x = 0 - 0.4 * 0 = 0\n",
    "\n",
    "y = beta * x + alpha = 0.4 * 1.5 + 0 = 0.6\n",
    "```"
   ]
  },
  {
   "cell_type": "markdown",
   "metadata": {},
   "source": [
    "Q6\n",
    "--\n",
    "\n",
    "Consider the data given by the following\n",
    "\n",
    "```\n",
    "x = [8.58, 10.46, 9.01, 9.64, 8.86]\n",
    "```\n",
    "\n",
    "What is the value of the first measurement if x were normalized (to have mean 0 and variance 1)?"
   ]
  },
  {
   "cell_type": "code",
   "execution_count": 5,
   "metadata": {
    "collapsed": false
   },
   "outputs": [
    {
     "data": {
      "text/plain": [
       "array([-0.97186584,  1.53102154, -0.39939692,  0.43933661, -0.59909538])"
      ]
     },
     "execution_count": 5,
     "metadata": {},
     "output_type": "execute_result"
    }
   ],
   "source": [
    "x = np.array([8.58, 10.46, 9.01, 9.64, 8.86])\n",
    "n = len(x)\n",
    "mu_x = sum(x) / n\n",
    "stddev_x = np.sqrt(sum((x - mu_x) ** 2) / (n - 1))\n",
    "(x - mu_x) / stddev_x"
   ]
  },
  {
   "cell_type": "markdown",
   "metadata": {},
   "source": [
    "Q7\n",
    "--\n",
    "\n",
    "Consider the following data set (used above as well). What is the intercept for fitting the model with `x` as the predictor and `y` as the outcome?\n",
    "\n",
    "```\n",
    "x = [0.8, 0.47, 0.51, 0.73, 0.36, 0.58, 0.57, 0.85, 0.44, 0.42]\n",
    "y = [1.39, 0.72, 1.55, 0.48, 1.19, -1.59, 1.23, -0.65, 1.49, 0.05]\n",
    "```"
   ]
  },
  {
   "cell_type": "code",
   "execution_count": 6,
   "metadata": {
    "collapsed": false
   },
   "outputs": [
    {
     "data": {
      "text/plain": [
       "1.5674607298925236"
      ]
     },
     "execution_count": 6,
     "metadata": {},
     "output_type": "execute_result"
    }
   ],
   "source": [
    "x = [0.8, 0.47, 0.51, 0.73, 0.36, 0.58, 0.57, 0.85, 0.44, 0.42]\n",
    "y = [1.39, 0.72, 1.55, 0.48, 1.19, -1.59, 1.23, -0.65, 1.49, 0.05]\n",
    "mu_x = np.mean(x)\n",
    "mu_y = np.mean(y)\n",
    "\n",
    "beta = np.dot(x - mu_x, y - mu_y) / sum((x - mu_x) ** 2)\n",
    "alpha = mu_y - beta * mu_x\n",
    "alpha"
   ]
  },
  {
   "cell_type": "markdown",
   "metadata": {},
   "source": [
    "Q8\n",
    "--\n",
    "\n",
    "You know that both the predictor and response have mean 0. What can be said about the intercept when you fit a linear regression?\n",
    "\n",
    "```\n",
    "alpha = mu_y - beta * mu_x = 0 - beta * 0 = 0\n",
    "```"
   ]
  },
  {
   "cell_type": "markdown",
   "metadata": {},
   "source": [
    "Q9\n",
    "--\n",
    "\n",
    "Consider the data given by\n",
    "\n",
    "```\n",
    "x = [0.8, 0.47, 0.51, 0.73, 0.36, 0.58, 0.57, 0.85, 0.44, 0.42]\n",
    "```\n",
    "\n",
    "What value minimizes the sum of the squared distances between these points and itself?"
   ]
  },
  {
   "cell_type": "code",
   "execution_count": 7,
   "metadata": {
    "collapsed": false
   },
   "outputs": [
    {
     "data": {
      "text/plain": [
       "0.57299999999999995"
      ]
     },
     "execution_count": 7,
     "metadata": {},
     "output_type": "execute_result"
    }
   ],
   "source": [
    "np.mean(x)"
   ]
  },
  {
   "cell_type": "markdown",
   "metadata": {},
   "source": [
    "Q10\n",
    "---\n",
    "\n",
    "Let the slope having fit `Y` as the outcome and `X` as the predictor be denoted as `β1`. Let the slope from fitting `X` as the outcome and `Y` as the predictor be denoted as `γ1`. Suppose that you divide `β1` by `γ1`; in other words consider `β1/γ1`. What is this ratio always equal to?\n",
    "\n",
    "```\n",
    "beta1 = corr(X, Y) * SY / SX\n",
    "gamma1 = corr(X, Y) * SX / SY\n",
    "\n",
    "beta1 / gamma1 = SY * SY / SX * SX = VAR(Y) / VAR(X)\n",
    "```"
   ]
  },
  {
   "cell_type": "code",
   "execution_count": null,
   "metadata": {
    "collapsed": true
   },
   "outputs": [],
   "source": []
  }
 ],
 "metadata": {
  "kernelspec": {
   "display_name": "Python 3",
   "language": "python",
   "name": "python3"
  },
  "language_info": {
   "codemirror_mode": {
    "name": "ipython",
    "version": 3
   },
   "file_extension": ".py",
   "mimetype": "text/x-python",
   "name": "python",
   "nbconvert_exporter": "python",
   "pygments_lexer": "ipython3",
   "version": "3.5.1"
  }
 },
 "nbformat": 4,
 "nbformat_minor": 0
}
