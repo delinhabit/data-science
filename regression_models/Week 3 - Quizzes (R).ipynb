{
 "cells": [
  {
   "cell_type": "code",
   "execution_count": 2,
   "metadata": {
    "collapsed": true
   },
   "outputs": [],
   "source": [
    "data(mtcars)"
   ]
  },
  {
   "cell_type": "markdown",
   "metadata": {},
   "source": [
    "Q1\n",
    "--\n",
    "\n",
    "Consider the `𝚖𝚝𝚌𝚊𝚛𝚜` data set. Fit a model with `mpg` as the outcome that includes number of cylinders as a factor variable and weight as confounder. Give the adjusted estimate for the expected change in mpg comparing 8 cylinders to 4.\n",
    "\n",
    "* **-6.071**\n",
    "* -3.206\n",
    "* 33.991\n",
    "* -4.256"
   ]
  },
  {
   "cell_type": "code",
   "execution_count": 5,
   "metadata": {
    "collapsed": false
   },
   "outputs": [
    {
     "data": {
      "text/plain": [
       "\n",
       "Call:\n",
       "lm(formula = mpg ~ factor(cyl) + wt, data = mtcars)\n",
       "\n",
       "Residuals:\n",
       "    Min      1Q  Median      3Q     Max \n",
       "-4.5890 -1.2357 -0.5159  1.3845  5.7915 \n",
       "\n",
       "Coefficients:\n",
       "             Estimate Std. Error t value Pr(>|t|)    \n",
       "(Intercept)   33.9908     1.8878  18.006  < 2e-16 ***\n",
       "factor(cyl)6  -4.2556     1.3861  -3.070 0.004718 ** \n",
       "factor(cyl)8  -6.0709     1.6523  -3.674 0.000999 ***\n",
       "wt            -3.2056     0.7539  -4.252 0.000213 ***\n",
       "---\n",
       "Signif. codes:  0 ‘***’ 0.001 ‘**’ 0.01 ‘*’ 0.05 ‘.’ 0.1 ‘ ’ 1\n",
       "\n",
       "Residual standard error: 2.557 on 28 degrees of freedom\n",
       "Multiple R-squared:  0.8374,\tAdjusted R-squared:   0.82 \n",
       "F-statistic: 48.08 on 3 and 28 DF,  p-value: 3.594e-11\n"
      ]
     },
     "execution_count": 5,
     "metadata": {},
     "output_type": "execute_result"
    }
   ],
   "source": [
    "summary(lm(mpg ~ factor(cyl) + wt, data=mtcars))"
   ]
  },
  {
   "cell_type": "markdown",
   "metadata": {},
   "source": [
    "Q2\n",
    "--\n",
    "\n",
    "Consider the `𝚖𝚝𝚌𝚊𝚛𝚜` data set. Fit a model with `mpg` as the outcome that includes number of cylinders as a factor variable and weight as a possible confounding variable. Compare the effect of 8 versus 4 cylinders on mpg for the adjusted and unadjusted by weight models. Here, adjusted means including the weight variable as a term in the regression model and unadjusted means the model without weight included. What can be said about the effect comparing 8 and 4 cylinders after looking at models with and without weight included?.\n",
    "\n",
    "* **Holding weight constant, cylinder appears to have less of an impact on mpg than if weight is disregarded.**\n",
    "* Within a given weight, 8 cylinder vehicles have an expected 12 mpg drop in fuel efficiency.\n",
    "* Including or excluding weight does not appear to change anything regarding the estimated impact of number of cylinders on mpg.\n",
    "* Holding weight constant, cylinder appears to have more of an impact on mpg than if weight is disregarded."
   ]
  },
  {
   "cell_type": "code",
   "execution_count": 7,
   "metadata": {
    "collapsed": false
   },
   "outputs": [
    {
     "data": {
      "text/html": [
       "<dl class=dl-horizontal>\n",
       "\t<dt>(Intercept)</dt>\n",
       "\t\t<dd>26.6636363636364</dd>\n",
       "\t<dt>factor(cyl)6</dt>\n",
       "\t\t<dd>-6.92077922077923</dd>\n",
       "\t<dt>factor(cyl)8</dt>\n",
       "\t\t<dd>-11.5636363636364</dd>\n",
       "</dl>\n"
      ],
      "text/latex": [
       "\\begin{description*}\n",
       "\\item[(Intercept)] 26.6636363636364\n",
       "\\item[factor(cyl)6] -6.92077922077923\n",
       "\\item[factor(cyl)8] -11.5636363636364\n",
       "\\end{description*}\n"
      ],
      "text/markdown": [
       "(Intercept)\n",
       ":   26.6636363636364factor(cyl)6\n",
       ":   -6.92077922077923factor(cyl)8\n",
       ":   -11.5636363636364\n",
       "\n"
      ],
      "text/plain": [
       " (Intercept) factor(cyl)6 factor(cyl)8 \n",
       "   26.663636    -6.920779   -11.563636 "
      ]
     },
     "execution_count": 7,
     "metadata": {},
     "output_type": "execute_result"
    }
   ],
   "source": [
    "lm(mpg ~ factor(cyl), data=mtcars)$coefficients"
   ]
  },
  {
   "cell_type": "code",
   "execution_count": 8,
   "metadata": {
    "collapsed": false
   },
   "outputs": [
    {
     "data": {
      "text/html": [
       "<dl class=dl-horizontal>\n",
       "\t<dt>(Intercept)</dt>\n",
       "\t\t<dd>33.9907940091325</dd>\n",
       "\t<dt>factor(cyl)6</dt>\n",
       "\t\t<dd>-4.25558240197129</dd>\n",
       "\t<dt>factor(cyl)8</dt>\n",
       "\t\t<dd>-6.07085968049088</dd>\n",
       "\t<dt>wt</dt>\n",
       "\t\t<dd>-3.20561325619286</dd>\n",
       "</dl>\n"
      ],
      "text/latex": [
       "\\begin{description*}\n",
       "\\item[(Intercept)] 33.9907940091325\n",
       "\\item[factor(cyl)6] -4.25558240197129\n",
       "\\item[factor(cyl)8] -6.07085968049088\n",
       "\\item[wt] -3.20561325619286\n",
       "\\end{description*}\n"
      ],
      "text/markdown": [
       "(Intercept)\n",
       ":   33.9907940091325factor(cyl)6\n",
       ":   -4.25558240197129factor(cyl)8\n",
       ":   -6.07085968049088wt\n",
       ":   -3.20561325619286\n",
       "\n"
      ],
      "text/plain": [
       " (Intercept) factor(cyl)6 factor(cyl)8           wt \n",
       "   33.990794    -4.255582    -6.070860    -3.205613 "
      ]
     },
     "execution_count": 8,
     "metadata": {},
     "output_type": "execute_result"
    }
   ],
   "source": [
    "lm(mpg ~ factor(cyl) + wt, data=mtcars)$coefficients"
   ]
  },
  {
   "cell_type": "markdown",
   "metadata": {},
   "source": [
    "Q3\n",
    "--\n",
    "\n",
    "Consider the `𝚖𝚝𝚌𝚊𝚛𝚜` data set. Fit a model with `mpg` as the outcome that considers number of cylinders as a factor variable and weight as confounder. Now fit a second model with mpg as the outcome model that considers the interaction between number of cylinders (as a factor variable) and weight. Give the P-value for the likelihood ratio test comparing the two models and suggest a model using 0.05 as a type I error rate significance benchmark.\n",
    "\n",
    "* **The P-value is larger than 0.05. So, according to our criterion, we would fail to reject, which suggests that the interaction terms may not be necessary.**\n",
    "* The P-value is small (less than 0.05). Thus it is surely true that there is no interaction term in the true model.\n",
    "* The P-value is small (less than 0.05). So, according to our criterion, we reject, which suggests that the interaction term is necessary\n",
    "* The P-value is larger than 0.05. So, according to our criterion, we would fail to reject, which suggests that the interaction terms is necessary.\n",
    "* The P-value is small (less than 0.05). Thus it is surely true that there is an interaction term in the true model.\n",
    "* The P-value is small (less than 0.05). So, according to our criterion, we reject, which suggests that the interaction term is not necessary."
   ]
  },
  {
   "cell_type": "code",
   "execution_count": 11,
   "metadata": {
    "collapsed": false
   },
   "outputs": [
    {
     "data": {
      "text/html": [
       "<table>\n",
       "<thead><tr><th></th><th scope=col>Res.Df</th><th scope=col>RSS</th><th scope=col>Df</th><th scope=col>Sum of Sq</th><th scope=col>F</th><th scope=col>Pr(&gt;F)</th></tr></thead>\n",
       "<tbody>\n",
       "\t<tr><th scope=row>1</th><td> 28.0000</td><td>183.0586</td><td>      NA</td><td>      NA</td><td>      NA</td><td>      NA</td></tr>\n",
       "\t<tr><th scope=row>2</th><td> 26.000000</td><td>155.888800</td><td>  2.000000</td><td> 27.169847</td><td>  2.265769</td><td>  0.123857</td></tr>\n",
       "</tbody>\n",
       "</table>\n"
      ],
      "text/latex": [
       "\\begin{tabular}{r|llllll}\n",
       "  & Res.Df & RSS & Df & Sum of Sq & F & Pr(>F)\\\\\n",
       "\\hline\n",
       "\t1 &  28.0000 & 183.0586 &       NA &       NA &       NA &       NA\\\\\n",
       "\t2 &  26.000000 & 155.888800 &   2.000000 &  27.169847 &   2.265769 &   0.123857\\\\\n",
       "\\end{tabular}\n"
      ],
      "text/plain": [
       "Analysis of Variance Table\n",
       "\n",
       "Model 1: mpg ~ factor(cyl) + wt\n",
       "Model 2: mpg ~ factor(cyl) * wt\n",
       "  Res.Df    RSS Df Sum of Sq      F Pr(>F)\n",
       "1     28 183.06                           \n",
       "2     26 155.89  2     27.17 2.2658 0.1239"
      ]
     },
     "execution_count": 11,
     "metadata": {},
     "output_type": "execute_result"
    }
   ],
   "source": [
    "fit1 <- lm(mpg ~ factor(cyl) + wt, data=mtcars)\n",
    "fit2 <- lm(mpg ~ factor(cyl) * wt, data=mtcars)\n",
    "anova(fit1, fit2)"
   ]
  },
  {
   "cell_type": "markdown",
   "metadata": {},
   "source": [
    "Q4\n",
    "--\n",
    "\n",
    "Consider the `𝚖𝚝𝚌𝚊𝚛𝚜` data set. Fit a model with `mpg` as the outcome that includes number of cylinders as a factor variable and weight inlcuded in the model as\n",
    "\n",
    "```python\n",
    "lm(mpg ~ I(wt * 0.5) + factor(cyl), data = mtcars)\n",
    "```\n",
    "\n",
    "How is the wt coefficient interpretted?\n",
    "\n",
    "* The estimated expected change in MPG per half ton increase in weight.\n",
    "* The estimated expected change in MPG per one ton increase in weight for a specific number of cylinders (4, 6, 8).\n",
    "* **The estimated expected change in MPG per half ton increase in weight for for a specific number of cylinders (4, 6, 8).**\n",
    "* The estimated expected change in MPG per half ton increase in weight for the average number of cylinders.\n",
    "* The estimated expected change in MPG per one ton increase in weight."
   ]
  },
  {
   "cell_type": "code",
   "execution_count": 14,
   "metadata": {
    "collapsed": false
   },
   "outputs": [
    {
     "data": {
      "text/plain": [
       "\n",
       "Call:\n",
       "lm(formula = mpg ~ I(wt * 0.5) + factor(cyl), data = mtcars)\n",
       "\n",
       "Residuals:\n",
       "    Min      1Q  Median      3Q     Max \n",
       "-4.5890 -1.2357 -0.5159  1.3845  5.7915 \n",
       "\n",
       "Coefficients:\n",
       "             Estimate Std. Error t value Pr(>|t|)    \n",
       "(Intercept)    33.991      1.888  18.006  < 2e-16 ***\n",
       "I(wt * 0.5)    -6.411      1.508  -4.252 0.000213 ***\n",
       "factor(cyl)6   -4.256      1.386  -3.070 0.004718 ** \n",
       "factor(cyl)8   -6.071      1.652  -3.674 0.000999 ***\n",
       "---\n",
       "Signif. codes:  0 ‘***’ 0.001 ‘**’ 0.01 ‘*’ 0.05 ‘.’ 0.1 ‘ ’ 1\n",
       "\n",
       "Residual standard error: 2.557 on 28 degrees of freedom\n",
       "Multiple R-squared:  0.8374,\tAdjusted R-squared:   0.82 \n",
       "F-statistic: 48.08 on 3 and 28 DF,  p-value: 3.594e-11\n"
      ]
     },
     "execution_count": 14,
     "metadata": {},
     "output_type": "execute_result"
    }
   ],
   "source": [
    "summary(lm(mpg ~ I(wt * 0.5) + factor(cyl), data = mtcars))"
   ]
  },
  {
   "cell_type": "markdown",
   "metadata": {},
   "source": [
    "Q5\n",
    "--\n",
    "\n",
    "Consider the following data set\n",
    "\n",
    "```python\n",
    "x <- c(0.586, 0.166, -0.042, -0.614, 11.72)\n",
    "y <- c(0.549, -0.026, -0.127, -0.751, 1.344)\n",
    "```\n",
    "\n",
    "Give the hat diagonal for the most influential point\n",
    "\n",
    "* 0.2025\n",
    "* 0.2287\n",
    "* **0.9946**\n",
    "* 0.2804"
   ]
  },
  {
   "cell_type": "code",
   "execution_count": 22,
   "metadata": {
    "collapsed": false
   },
   "outputs": [
    {
     "data": {
      "text/html": [
       "<dl class=dl-horizontal>\n",
       "\t<dt>1</dt>\n",
       "\t\t<dd>0.228664999800044</dd>\n",
       "\t<dt>2</dt>\n",
       "\t\t<dd>0.243814566044822</dd>\n",
       "\t<dt>3</dt>\n",
       "\t\t<dd>0.252502710434675</dd>\n",
       "\t<dt>4</dt>\n",
       "\t\t<dd>0.280444314380625</dd>\n",
       "\t<dt>5</dt>\n",
       "\t\t<dd>0.994573409339834</dd>\n",
       "</dl>\n"
      ],
      "text/latex": [
       "\\begin{description*}\n",
       "\\item[1] 0.228664999800044\n",
       "\\item[2] 0.243814566044822\n",
       "\\item[3] 0.252502710434675\n",
       "\\item[4] 0.280444314380625\n",
       "\\item[5] 0.994573409339834\n",
       "\\end{description*}\n"
      ],
      "text/markdown": [
       "1\n",
       ":   0.2286649998000442\n",
       ":   0.2438145660448223\n",
       ":   0.2525027104346754\n",
       ":   0.2804443143806255\n",
       ":   0.994573409339834\n",
       "\n"
      ],
      "text/plain": [
       "        1         2         3         4         5 \n",
       "0.2286650 0.2438146 0.2525027 0.2804443 0.9945734 "
      ]
     },
     "execution_count": 22,
     "metadata": {},
     "output_type": "execute_result"
    }
   ],
   "source": [
    "x <- c(0.586, 0.166, -0.042, -0.614, 11.72)\n",
    "y <- c(0.549, -0.026, -0.127, -0.751, 1.344)\n",
    "influence(lm(y ~ x))$hat"
   ]
  },
  {
   "cell_type": "markdown",
   "metadata": {},
   "source": [
    "Q6\n",
    "--\n",
    "\n",
    "Consider the following data set\n",
    "\n",
    "```python\n",
    "x <- c(0.586, 0.166, -0.042, -0.614, 11.72)\n",
    "y <- c(0.549, -0.026, -0.127, -0.751, 1.344)\n",
    "```\n",
    "\n",
    "Give the slope dfbeta for the point with the highest hat value.\n",
    "\n",
    "* -.00134\n",
    "* 0.673\n",
    "* -0.378\n",
    "* **-134**"
   ]
  },
  {
   "cell_type": "code",
   "execution_count": 26,
   "metadata": {
    "collapsed": false
   },
   "outputs": [
    {
     "data": {
      "text/html": [
       "<table>\n",
       "<thead><tr><th></th><th scope=col>(Intercept)</th><th scope=col>x</th></tr></thead>\n",
       "<tbody>\n",
       "\t<tr><th scope=row>1</th><td> 1.0621239</td><td>-0.3781163</td></tr>\n",
       "\t<tr><th scope=row>2</th><td> 0.06748037</td><td>-0.02861769</td></tr>\n",
       "\t<tr><th scope=row>3</th><td>-0.01735756</td><td> 0.00791512</td></tr>\n",
       "\t<tr><th scope=row>4</th><td>-1.2495825</td><td> 0.6725325</td></tr>\n",
       "\t<tr><th scope=row>5</th><td>   0.2043201</td><td>-133.8226129</td></tr>\n",
       "</tbody>\n",
       "</table>\n"
      ],
      "text/latex": [
       "\\begin{tabular}{r|ll}\n",
       "  & (Intercept) & x\\\\\n",
       "\\hline\n",
       "\t1 &  1.0621239 & -0.3781163\\\\\n",
       "\t2 &  0.06748037 & -0.02861769\\\\\n",
       "\t3 & -0.01735756 &  0.00791512\\\\\n",
       "\t4 & -1.2495825 &  0.6725325\\\\\n",
       "\t5 &    0.2043201 & -133.8226129\\\\\n",
       "\\end{tabular}\n"
      ],
      "text/markdown": [
       "1. 1.0621239127779\n",
       "2. 0.0674803652522255\n",
       "3. -0.0173575594306498\n",
       "4. -1.24958248143577\n",
       "5. 0.204320096821709\n",
       "6. -0.378116326888689\n",
       "7. -0.0286176937983175\n",
       "8. 0.00791511966892917\n",
       "9. 0.672532460598266\n",
       "10. -133.822612934866\n",
       "\n",
       "\n"
      ],
      "text/plain": [
       "  (Intercept)             x\n",
       "1  1.06212391   -0.37811633\n",
       "2  0.06748037   -0.02861769\n",
       "3 -0.01735756    0.00791512\n",
       "4 -1.24958248    0.67253246\n",
       "5  0.20432010 -133.82261293"
      ]
     },
     "execution_count": 26,
     "metadata": {},
     "output_type": "execute_result"
    }
   ],
   "source": [
    "x <- c(0.586, 0.166, -0.042, -0.614, 11.72)\n",
    "y <- c(0.549, -0.026, -0.127, -0.751, 1.344)\n",
    "dfbetas(lm(y ~ x))"
   ]
  },
  {
   "cell_type": "markdown",
   "metadata": {},
   "source": [
    "Q7\n",
    "--\n",
    "\n",
    "Consider a regression relationship between Y and X with and without adjustment for a third variable Z. Which of the following is true about comparing the regression coefficient between Y and X with and without adjustment for Z.\n",
    "\n",
    "* Adjusting for another variable can only attenuate the coefficient toward zero. It can't materially change sign.\n",
    "* The coefficient can't change sign after adjustment, except for slight numerical pathological cases.\n",
    "* For the the coefficient to change sign, there must be a significant interaction term.\n",
    "* **It is possible for the coefficient to reverse sign after adjustment. For example, it can be strongly significant and positive before adjustment and strongly significant and negative after adjustment.**"
   ]
  },
  {
   "cell_type": "code",
   "execution_count": null,
   "metadata": {
    "collapsed": true
   },
   "outputs": [],
   "source": []
  }
 ],
 "metadata": {
  "kernelspec": {
   "display_name": "R",
   "language": "R",
   "name": "ir"
  },
  "language_info": {
   "codemirror_mode": "r",
   "file_extension": ".r",
   "mimetype": "text/x-r-source",
   "name": "R",
   "pygments_lexer": "r",
   "version": "3.3.0"
  }
 },
 "nbformat": 4,
 "nbformat_minor": 0
}
