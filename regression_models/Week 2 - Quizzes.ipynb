{
 "cells": [
  {
   "cell_type": "code",
   "execution_count": 1,
   "metadata": {
    "collapsed": true
   },
   "outputs": [],
   "source": [
    "import numpy as np\n",
    "import pandas as pd\n",
    "import matplotlib.pyplot as plt\n",
    "from scipy import stats\n",
    "%matplotlib inline"
   ]
  },
  {
   "cell_type": "markdown",
   "metadata": {},
   "source": [
    "**Q1**\n",
    "\n",
    "Consider the following data with x as the predictor and y as as the outcome.\n",
    "\n",
    "```\n",
    "x = [0.61, 0.93, 0.83, 0.35, 0.54, 0.16, 0.91, 0.62, 0.62]\n",
    "y = [0.67, 0.84, 0.6, 0.18, 0.85, 0.47, 1.1, 0.65, 0.36]\n",
    "```\n",
    "\n",
    "Give a P-value for the two sided hypothesis test of whether β1 from a linear regression model is 0 or not.\n",
    "\n",
    "* __0.05296__\n",
    "* 0.391\n",
    "* 0.025\n",
    "* 2.325"
   ]
  },
  {
   "cell_type": "code",
   "execution_count": 2,
   "metadata": {
    "collapsed": false
   },
   "outputs": [
    {
     "name": "stdout",
     "output_type": "stream",
     "text": [
      "slope=0.7224210798688978, intercept=0.18845717612558216\n"
     ]
    },
    {
     "data": {
      "text/plain": [
       "[<matplotlib.lines.Line2D at 0x10afa4588>,\n",
       " <matplotlib.lines.Line2D at 0x10afa4748>]"
      ]
     },
     "execution_count": 2,
     "metadata": {},
     "output_type": "execute_result"
    },
    {
     "data": {
      "image/png": "[encoded data removed]",
      "text/plain": [
       "<matplotlib.figure.Figure at 0x10aec58d0>"
      ]
     },
     "metadata": {},
     "output_type": "display_data"
    }
   ],
   "source": [
    "x = np.array([0.61, 0.93, 0.83, 0.35, 0.54, 0.16, 0.91, 0.62, 0.62])\n",
    "y = np.array([0.67, 0.84, 0.6, 0.18, 0.85, 0.47, 1.1, 0.65, 0.36])\n",
    "n = len(x)\n",
    "mu_x = np.mean(x)\n",
    "mu_y = np.mean(y)\n",
    "\n",
    "beta1 = np.dot(x - mu_x, y - mu_y) / sum((x - mu_x) ** 2)\n",
    "beta0 = mu_y - beta1 * mu_x\n",
    "print(\"slope={}, intercept={}\".format(beta1, beta0))\n",
    "\n",
    "yhat = (lambda x: beta0 + beta1 * x)(x)\n",
    "\n",
    "plt.plot(x, y, 'bo', x, yhat, '--r')"
   ]
  },
  {
   "cell_type": "code",
   "execution_count": 3,
   "metadata": {
    "collapsed": false
   },
   "outputs": [
    {
     "name": "stdout",
     "output_type": "stream",
     "text": [
      "Slope inference\n",
      "--------------------------------------------------\n",
      "Estimate: 0.7224210798688978\n",
      "Residual std. error: 0.2229980659078784\n",
      "Std. Error: 0.3106531111754473\n",
      "t value: 2.325491211516941\n",
      "Pr(>|t|): 0.05296438730856383\n"
     ]
    }
   ],
   "source": [
    "print(\"Slope inference\\n{}\".format(\"-\" * 50))\n",
    "print(\"Estimate: {}\".format(beta1))\n",
    "resid = y - yhat\n",
    "sigma = np.sqrt(sum(resid ** 2) / (n - 2))  # residual standard error\n",
    "print(\"Residual std. error: {}\".format(sigma))\n",
    "se_beta1 = sigma / np.sqrt(sum((x - mu_x) ** 2))  # standard error of the slope\n",
    "print(\"Std. Error: {}\".format(se_beta1))\n",
    "t_beta1 = beta1 / se_beta1  # t-statistic beta1 - beta_theta / se_beta1, where beta_theta = 0 in our case\n",
    "print(\"t value: {}\".format(t_beta1))\n",
    "p_beta1 = 2 * stats.t.sf(np.abs(t_beta1), n - 2)  # equivalent of R 2 * pt(abs(t_beta1), n - 2, lower.tail = FALSE)\n",
    "print(\"Pr(>|t|): {}\".format(p_beta1))"
   ]
  },
  {
   "cell_type": "markdown",
   "metadata": {
    "collapsed": true
   },
   "source": [
    "Q2\n",
    "--\n",
    "\n",
    "Consider the previous problem, give the estimate of the residual standard deviation.\n",
    "\n",
    "* 0.4358\n",
    "* 0.05296\n",
    "* 0.3552\n",
    "* __0.223__"
   ]
  },
  {
   "cell_type": "markdown",
   "metadata": {},
   "source": [
    "Q3\n",
    "--\n",
    "\n",
    "In the 𝚖𝚝𝚌𝚊𝚛𝚜 data set, fit a linear regression model of weight (predictor) on mpg (outcome). Get a 95% confidence interval for the expected mpg at the average weight. What is the lower endpoint?\n",
    "\n",
    "* -6.486\n",
    "* -4.00\n",
    "* __18.991__\n",
    "* 21.190"
   ]
  },
  {
   "cell_type": "code",
   "execution_count": 4,
   "metadata": {
    "collapsed": false
   },
   "outputs": [
    {
     "name": "stdout",
     "output_type": "stream",
     "text": [
      "slope = -5.344471572722677, intercept = 37.28512616734203\n"
     ]
    },
    {
     "data": {
      "text/plain": [
       "[<matplotlib.lines.Line2D at 0x10bd8b710>,\n",
       " <matplotlib.lines.Line2D at 0x10bd8b978>]"
      ]
     },
     "execution_count": 4,
     "metadata": {},
     "output_type": "execute_result"
    },
    {
     "data": {
      "image/png": "[encoded data removed]",
      "text/plain": [
       "<matplotlib.figure.Figure at 0x10aec5710>"
      ]
     },
     "metadata": {},
     "output_type": "display_data"
    }
   ],
   "source": [
    "from ggplot import mtcars\n",
    "\n",
    "x = mtcars.wt\n",
    "y = mtcars.mpg\n",
    "n = len(x)\n",
    "mu_x = np.mean(x)\n",
    "mu_y = np.mean(y)\n",
    "\n",
    "ssx = sum((x - mu_x) ** 2)\n",
    "beta1 = np.dot(x - mu_x, y - mu_y) / ssx\n",
    "beta0 = mu_y - beta1 * mu_x\n",
    "print(\"slope = {}, intercept = {}\".format(beta1, beta0))\n",
    "\n",
    "yhat = (lambda x: beta1 * x + beta0)(x)\n",
    "plt.plot(x, y, 'bo', x, yhat, '--r')"
   ]
  },
  {
   "cell_type": "code",
   "execution_count": 5,
   "metadata": {
    "collapsed": false
   },
   "outputs": [
    {
     "data": {
      "text/plain": [
       "array([ 18.99098182,  21.19026818])"
      ]
     },
     "execution_count": 5,
     "metadata": {},
     "output_type": "execute_result"
    }
   ],
   "source": [
    "resid = y - yhat\n",
    "sigma = np.sqrt(sum(resid ** 2) / (n - 2))  # residual standard error\n",
    "\n",
    "# Std. error of the fitted line at x0 = mu_x\n",
    "se = sigma * np.sqrt(1 / n)\n",
    "\n",
    "# 95% confidence interval of the expected mpg at mu_x\n",
    "(beta0 + beta1 * mu_x) + np.array([-1, 1]) * stats.t.ppf(.975, n - 2) * se"
   ]
  },
  {
   "cell_type": "markdown",
   "metadata": {},
   "source": [
    "Q4\n",
    "--\n",
    "\n",
    "Refer to the previous question. Read the help file for 𝚖𝚝𝚌𝚊𝚛𝚜. What is the weight coefficient interpreted as?\n",
    "\n",
    "* It can't be interpreted without further information\n",
    "* The estimated 1,000 lb change in weight per 1 mpg increase.\n",
    "* __The estimated expected change in mpg per 1,000 lb increase in weight.__\n",
    "* The estimated expected change in mpg per 1 lb increase in weight."
   ]
  },
  {
   "cell_type": "markdown",
   "metadata": {},
   "source": [
    "Q5\n",
    "--\n",
    "\n",
    "Consider again the 𝚖𝚝𝚌𝚊𝚛𝚜 data set and a linear regression model with mpg as predicted by weight (1,000 lbs). A new car is coming weighing 3000 pounds. Construct a 95% prediction interval for its mpg. What is the upper endpoint?\n",
    "\n",
    "* -5.77\n",
    "* __27.57__\n",
    "* 14.93\n",
    "* 21.25"
   ]
  },
  {
   "cell_type": "code",
   "execution_count": 6,
   "metadata": {
    "collapsed": false
   },
   "outputs": [
    {
     "data": {
      "text/plain": [
       "array([ 14.92987355,  27.57354935])"
      ]
     },
     "execution_count": 6,
     "metadata": {},
     "output_type": "execute_result"
    }
   ],
   "source": [
    "x0 = 3  # 3000 lbs\n",
    "\n",
    "# Std. error of the prediction interval at x0\n",
    "se_predict = sigma * np.sqrt(1 + 1 / n + (x0 - mu_x) ** 2 / ssx)\n",
    "\n",
    "# 95% prediction interval of the expected mpg at x0\n",
    "(beta0 + beta1 * x0) + np.array([-1, 1]) * stats.t.ppf(.975, n - 2) * se_predict"
   ]
  },
  {
   "cell_type": "markdown",
   "metadata": {},
   "source": [
    "Q6\n",
    "--\n",
    "\n",
    "Consider again the 𝚖𝚝𝚌𝚊𝚛𝚜 data set and a linear regression model with mpg as predicted by weight (in 1,000 lbs). A “short” ton is defined as 2,000 lbs. Construct a 95% confidence interval for the expected change in mpg per 1 short ton increase in weight. Give the lower endpoint.\n",
    "\n",
    "* -9.000\n",
    "* 4.2026\n",
    "* -6.486\n",
    "* __-12.973__"
   ]
  },
  {
   "cell_type": "code",
   "execution_count": 7,
   "metadata": {
    "collapsed": false
   },
   "outputs": [
    {
     "data": {
      "text/plain": [
       "array([-12.97261647,  -8.40526982])"
      ]
     },
     "execution_count": 7,
     "metadata": {},
     "output_type": "execute_result"
    }
   ],
   "source": [
    "se_beta1 = sigma / np.sqrt(ssx)\n",
    "(beta1 + np.array([-1, 1]) * stats.t.ppf(.975, n - 2) * se_beta1) * 2"
   ]
  },
  {
   "cell_type": "markdown",
   "metadata": {},
   "source": [
    "Q7\n",
    "--\n",
    "\n",
    "If my `X` from a linear regression is measured in centimeters and I convert it to meters what would happen to the slope coefficient?\n",
    "\n",
    "* It would get divided by 10\n",
    "* It would get multiplied by 10\n",
    "* __It would get multiplied by 100__\n",
    "* It would get divided by 100"
   ]
  },
  {
   "cell_type": "markdown",
   "metadata": {},
   "source": [
    "Q8\n",
    "--\n",
    "\n",
    "I have an outcome, `Y`, and a predictor, `X` and fit a linear regression model with `Y=β0+β1X+ϵ` to obtain `β^0` and `β^1`. What would be the consequence to the subsequent slope and intercept if I were to refit the model with a new regressor, `X+c` for some constant, `c`?\n",
    "\n",
    "* __The new intercept would be `β^0+cβ^1`__\n",
    "* The new slope would be `β^1+c`\n",
    "* The new intercept would be `β^0−cβ^1`\n",
    "* The new slope would be `cβ^1`"
   ]
  },
  {
   "cell_type": "markdown",
   "metadata": {},
   "source": [
    "Q9\n",
    "--\n",
    "\n",
    "Refer back to the `mtcars` data set with `mpg` as an outcome and weight (`wt`) as the predictor. About what is the ratio of the the sum of the squared errors, `∑ni=1(Yi−Y^i)2` when comparing a model with just an intercept (denominator) to the model with the intercept and slope (numerator)?\n",
    "\n",
    "* __0.25__\n",
    "* 0.50\n",
    "* 4.00\n",
    "* 0.75"
   ]
  },
  {
   "cell_type": "code",
   "execution_count": 8,
   "metadata": {
    "collapsed": false
   },
   "outputs": [
    {
     "data": {
      "text/plain": [
       "0.24716720634173525"
      ]
     },
     "execution_count": 8,
     "metadata": {},
     "output_type": "execute_result"
    }
   ],
   "source": [
    "x = mtcars.wt\n",
    "y = mtcars.mpg\n",
    "n = len(x)\n",
    "mu_x = np.mean(x)\n",
    "mu_y = np.mean(y)\n",
    "\n",
    "# Model 1: just the intercept (ie. beta1 = 0)\n",
    "model_1_beta0 = mu_y\n",
    "model_1_yhat = (lambda x: model_1_beta0)(x)\n",
    "model_1_e = sum((y - model_1_yhat) ** 2)\n",
    "\n",
    "# Model 2: intercept and slope\n",
    "model_2_ssx = sum((x - mu_x) ** 2)\n",
    "model_2_beta1 = np.dot(x - mu_x, y - mu_y) / ssx\n",
    "model_2_beta0 = mu_y - model_2_beta1 * mu_x\n",
    "model_2_yhat = (lambda x: model_2_beta0 + model_2_beta1 * x)(x)\n",
    "model_2_e = sum((y - model_2_yhat) ** 2)\n",
    "\n",
    "model_2_e / model_1_e"
   ]
  },
  {
   "cell_type": "markdown",
   "metadata": {},
   "source": [
    "Q10\n",
    "---\n",
    "\n",
    "Do the residuals always have to sum to 0 in linear regression?\n",
    "\n",
    "* The residuals must always sum to zero.\n",
    "* The residuals never sum to zero.\n",
    "* __If an intercept is included, then they will sum to 0__.\n",
    "* If an intercept is included, the residuals most likely won't sum to zero."
   ]
  },
  {
   "cell_type": "code",
   "execution_count": null,
   "metadata": {
    "collapsed": true
   },
   "outputs": [],
   "source": []
  }
 ],
 "metadata": {
  "kernelspec": {
   "display_name": "Python 3",
   "language": "python",
   "name": "python3"
  },
  "language_info": {
   "codemirror_mode": {
    "name": "ipython",
    "version": 3
   },
   "file_extension": ".py",
   "mimetype": "text/x-python",
   "name": "python",
   "nbconvert_exporter": "python",
   "pygments_lexer": "ipython3",
   "version": "3.5.1"
  }
 },
 "nbformat": 4,
 "nbformat_minor": 0
}
